{
  "nbformat": 4,
  "nbformat_minor": 0,
  "metadata": {
    "colab": {
      "name": "Linear Regression From scratch.ipynb",
      "provenance": [],
      "collapsed_sections": [],
      "authorship_tag": "ABX9TyOY0q3uSyqtaC/s/LBN3G86",
      "include_colab_link": true
    },
    "kernelspec": {
      "name": "python3",
      "display_name": "Python 3"
    },
    "language_info": {
      "name": "python"
    }
  },
  "cells": [
    {
      "cell_type": "markdown",
      "metadata": {
        "id": "view-in-github",
        "colab_type": "text"
      },
      "source": [
        "<a href=\"https://colab.research.google.com/github/Zzmirror/Machine-learning-Basic-projects/blob/main/Regression/Linear_Regression_From_scratch.ipynb\" target=\"_parent\"><img src=\"https://colab.research.google.com/assets/colab-badge.svg\" alt=\"Open In Colab\"/></a>"
      ]
    },
    {
      "cell_type": "markdown",
      "source": [
        "# Linear Regression From scratch"
      ],
      "metadata": {
        "id": "Irux5MpAttVD"
      }
    },
    {
      "cell_type": "markdown",
      "source": [
        "\n",
        "\n",
        "> Loading data & visualize data\n",
        "\n"
      ],
      "metadata": {
        "id": "Qe_c3AR-ukoD"
      }
    },
    {
      "cell_type": "code",
      "execution_count": 2,
      "metadata": {
        "id": "sQis7IBWtrlY"
      },
      "outputs": [],
      "source": [
        "import pandas as pd\n",
        "\n",
        "train_data = pd.read_csv('/content/train.csv')\n",
        "test_data = pd.read_csv('/content/test.csv')\n",
        "\n",
        "\n",
        "x_train , y_train = train_data[\"x\"] , train_data[\"y\"]"
      ]
    },
    {
      "cell_type": "code",
      "source": [
        "import matplotlib.pyplot as plt\n",
        "plt.scatter(x_train, y_train, s = 20)\n",
        "plt.grid()\n",
        "plt.xlabel(\"x values\")\n",
        "plt.ylabel(\"y values\")\n",
        "plt.show()"
      ],
      "metadata": {
        "colab": {
          "base_uri": "https://localhost:8080/",
          "height": 279
        },
        "id": "EC1w7T3nvbVi",
        "outputId": "dd1341f8-2883-4144-c31d-07fcb46ac547"
      },
      "execution_count": 3,
      "outputs": [
        {
          "output_type": "display_data",
          "data": {
            "text/plain": [
              "<Figure size 432x288 with 1 Axes>"
            ],
            "image/png": "[encoded data removed]"
          },
          "metadata": {
            "needs_background": "light"
          }
        }
      ]
    },
    {
      "cell_type": "markdown",
      "source": [
        "\n",
        "\n",
        "> Defining Model & Cost function & Gradient discent :\n",
        "\n",
        "Model :\n",
        "\\begin{align}\n",
        "    f(x) = wa+b\n",
        "\\end{align}\n",
        "\n",
        "Cost function :\n",
        "\n",
        "\\begin{align}\n",
        "J = \\frac{1}{2m}\\sum_{i=1}^n (h(x)^i - y^i)^2\n",
        "\\end{align}\n",
        "\n",
        "Gradient discent :\n",
        "\n",
        "\\begin{align}\n",
        "  w =w-a\\cdot\\frac{\\partial J}{\\partial w} := w -a\\cdot\\frac{1}{n}\\sum_{i=1}^n (h(x)^i - y^i)x^i\n",
        "  \\end{align}\t \n",
        "\\begin{align}\n",
        "  b =b-a\\cdot\\frac{\\partial J}{\\partial b}:= b -a\\cdot\\frac{1}{n}\\sum_{i=1}^n (h(x)^i - y^i)\n",
        "\\end{align}\n"
      ],
      "metadata": {
        "id": "BgjNMJURw44P"
      }
    },
    {
      "cell_type": "code",
      "source": [
        "#Model or Predict \n",
        "def predict(x , w , b):\n",
        "  return (w*x)+b\n",
        "\n",
        "#Cost function :\n",
        "def cost_function(x  , w , b , y ):\n",
        "\n",
        "  n = len(x)\n",
        "  y_predict = predict(x , w, b)\n",
        "  total_error = sum(pow((y - y_predict) , 2))/(2*float(n))\n",
        "  return total_error\n",
        "\n",
        "\n",
        "#Gradient discent :\n",
        "def gradient_discent(x , y , w , b , alpha ):\n",
        " \n",
        "  n = len(x)\n",
        "\n",
        "  y_predict = predict(x , w , b)\n",
        "  error = y_predict - y\n",
        "  d_w = sum(error*x)\n",
        "  d_b = sum(error)\n",
        "\n",
        "  new_w = w - (alpha* (1/float(n)) * d_w)\n",
        "  new_b = b - (alpha* (1/float(n)) * d_b)\n",
        "\n",
        "  return new_w , new_b\n"
      ],
      "metadata": {
        "id": "mli3MLzowK5G"
      },
      "execution_count": 4,
      "outputs": []
    },
    {
      "cell_type": "code",
      "source": [
        "def train(x , y , w , b   , alpha ,n_iter):\n",
        "\n",
        "\n",
        "  for i in range(n_iter):\n",
        "    w , b = gradient_discent(x , y , w , b , alpha )\n",
        "\n",
        "    if (i % 20 == 0):\n",
        "      print(\"iteration:\" , i , \"Cost :\" , cost_function(x  , w , b , y ))\n",
        "\n",
        "  return w ,b \n",
        "\n"
      ],
      "metadata": {
        "id": "7yvl_MJB3YPd"
      },
      "execution_count": 5,
      "outputs": []
    },
    {
      "cell_type": "code",
      "source": [
        "w, b = train(x_train, y_train, 0.0, 0.0, 0.0001, 100)\n",
        "print( \"w : \" , w , \"b : \" , b)"
      ],
      "metadata": {
        "colab": {
          "base_uri": "https://localhost:8080/"
        },
        "id": "Et3XMZnjA9n5",
        "outputId": "1987b747-fb4b-4a05-c181-a489962cfa1c"
      },
      "execution_count": 6,
      "outputs": [
        {
          "output_type": "stream",
          "name": "stdout",
          "text": [
            "iteration: 0 Cost : 743.1419639041284\n",
            "iteration: 20 Cost : 3.931000534405438\n",
            "iteration: 40 Cost : 3.930935031326048\n",
            "iteration: 60 Cost : 3.9309331540481676\n",
            "iteration: 80 Cost : 3.9309312786546897\n",
            "w :  0.9988617173559169 b :  0.01465683038447714\n"
          ]
        }
      ]
    },
    {
      "cell_type": "code",
      "source": [
        "x = [0 , 10 , 45 , 15 , 6 , 77 , 80 , 100]\n",
        "\n",
        "y = []\n",
        "for i in range(len(x)) :\n",
        "  y.append(predict(x[i] ,w ,b))\n",
        "\n"
      ],
      "metadata": {
        "id": "T3-8CVpSH0eL"
      },
      "execution_count": 7,
      "outputs": []
    },
    {
      "cell_type": "code",
      "source": [
        "plt.scatter(x_train, y_train, s = 20)\n",
        "plt.plot(x , y , color='r' )\n",
        "plt.grid()\n",
        "plt.xlabel(\"x values\")\n",
        "plt.ylabel(\"y values\")\n",
        "plt.show()"
      ],
      "metadata": {
        "colab": {
          "base_uri": "https://localhost:8080/",
          "height": 279
        },
        "id": "0eppqbcJYLKX",
        "outputId": "a46d382d-f1d5-4cbe-b811-59d121d07a4a"
      },
      "execution_count": 8,
      "outputs": [
        {
          "output_type": "display_data",
          "data": {
            "text/plain": [
              "<Figure size 432x288 with 1 Axes>"
            ],
            "image/png": "[encoded data removed]"
          },
          "metadata": {
            "needs_background": "light"
          }
        }
      ]
    },
    {
      "cell_type": "markdown",
      "source": [
        "# Linear Regression with sklearn"
      ],
      "metadata": {
        "id": "Ky5S5MbjyN63"
      }
    },
    {
      "cell_type": "code",
      "source": [
        "from sklearn.linear_model import LinearRegression\n",
        "import numpy as np\n",
        "from sklearn.metrics import mean_squared_error\n",
        "\n",
        "\n",
        "model = LinearRegression()\n",
        "X_train = np.array(x_train).reshape(-1 , 1)\n",
        "model.fit(  X_train , np.array(y_train))\n",
        "\n",
        "#Calculate intercept and coefficient\n",
        "print(\"model b :\" ,model.intercept_)\n",
        "print(\"model w:\" ,model.coef_)"
      ],
      "metadata": {
        "colab": {
          "base_uri": "https://localhost:8080/"
        },
        "id": "rmBpNCgywJpk",
        "outputId": "0bb67554-e053-4673-9411-e7dac657ae93"
      },
      "execution_count": 9,
      "outputs": [
        {
          "output_type": "stream",
          "name": "stdout",
          "text": [
            "model b : -0.10755938819391275\n",
            "model w: [1.00069255]\n"
          ]
        }
      ]
    },
    {
      "cell_type": "code",
      "source": [
        "x_test , y_test = test_data[\"x\"] , test_data[\"y\"]\n",
        "\n",
        "pred=model.predict(np.array(x_test).reshape(-1 , 1))\n",
        "\n",
        "\n",
        "new_x = [0 , 10 , 45 , 15 , 6 , 77 , 80 , 100]\n",
        "new_y =model.predict(np.array(new_x).reshape(-1 , 1))"
      ],
      "metadata": {
        "id": "T5A-RDdY2csC"
      },
      "execution_count": 11,
      "outputs": []
    },
    {
      "cell_type": "code",
      "source": [
        "plt.scatter(x_train, y_train, s = 20)\n",
        "# plt.plot(x , y , color='r' )\n",
        "plt.plot(new_x , new_y , color='g' )\n",
        "plt.grid()\n",
        "plt.xlabel(\"x values\")\n",
        "plt.ylabel(\"y values\")\n",
        "plt.show()"
      ],
      "metadata": {
        "colab": {
          "base_uri": "https://localhost:8080/",
          "height": 279
        },
        "id": "FUkf0FGzGJGe",
        "outputId": "c6146059-703b-4e19-9f25-8e9ed0c734a4"
      },
      "execution_count": 15,
      "outputs": [
        {
          "output_type": "display_data",
          "data": {
            "text/plain": [
              "<Figure size 432x288 with 1 Axes>"
            ],
            "image/png": "[encoded data removed]"
          },
          "metadata": {
            "needs_background": "light"
          }
        }
      ]
    },
    {
      "cell_type": "code",
      "source": [
        "print('MSE : ', mean_squared_error(y_test,pred.reshape(-1 ,1)))\n",
        "print('RMSE : ', np.sqrt(mean_squared_error(y_test,pred)))"
      ],
      "metadata": {
        "colab": {
          "base_uri": "https://localhost:8080/"
        },
        "id": "FZ94VG-Z36n4",
        "outputId": "b7f81218-a566-4554-d6a3-cfcb1516c1d2"
      },
      "execution_count": 16,
      "outputs": [
        {
          "output_type": "stream",
          "name": "stdout",
          "text": [
            "MSE :  9.431064474444804\n",
            "RMSE :  3.071003821952165\n"
          ]
        }
      ]
    }
  ]
}