{
  "cells": [
    {
      "cell_type": "markdown",
      "metadata": {
        "id": "view-in-github",
        "colab_type": "text"
      },
      "source": [
        "<a href=\"https://colab.research.google.com/github/Zzmirror/Machine-learning-Basic-projects/blob/main/Regression/Logistic_Regression_from_scratch.ipynb\" target=\"_parent\"><img src=\"https://colab.research.google.com/assets/colab-badge.svg\" alt=\"Open In Colab\"/></a>"
      ]
    },
    {
      "cell_type": "markdown",
      "metadata": {
        "id": "RIri-3qiu0FT"
      },
      "source": [
        "# Logistic Regression from scratch"
      ]
    },
    {
      "cell_type": "markdown",
      "metadata": {
        "id": "8DWdNygsu8a5"
      },
      "source": [
        "\n",
        "\n",
        "#  loading and visualizing \n",
        "\n"
      ]
    },
    {
      "cell_type": "code",
      "execution_count": null,
      "metadata": {
        "id": "oy_55RX2wdUw"
      },
      "outputs": [],
      "source": [
        "import numpy as np\n",
        "import matplotlib.pyplot as plt\n",
        "import math\n"
      ]
    },
    {
      "cell_type": "code",
      "execution_count": null,
      "metadata": {
        "id": "DTbR3nVtu7Tm"
      },
      "outputs": [],
      "source": [
        "def load_data(file_path):\n",
        "  data = np.loadtxt(file_path , delimiter=\",\")\n",
        "  x = data[: , :2]\n",
        "  y = data[: , 2]\n",
        "\n",
        "  return x , y"
      ]
    },
    {
      "cell_type": "code",
      "execution_count": null,
      "metadata": {
        "id": "gKUwVmpcxVe-"
      },
      "outputs": [],
      "source": [
        "x_train , y_train = load_data('/content/ex2data1.txt')"
      ]
    },
    {
      "cell_type": "markdown",
      "metadata": {
        "id": "QbAKdnjDzftv"
      },
      "source": [
        "\n",
        "\n",
        "> Checking some elements of data\n",
        "\n"
      ]
    },
    {
      "cell_type": "code",
      "execution_count": null,
      "metadata": {
        "colab": {
          "base_uri": "https://localhost:8080/"
        },
        "id": "7iUAfWJ6xgcb",
        "outputId": "c7eef4c9-f6d9-4214-83df-d0b9342a6208"
      },
      "outputs": [
        {
          "output_type": "stream",
          "name": "stdout",
          "text": [
            "First five elements in x_train are : \n",
            " [[34.62365962 78.02469282]\n",
            " [30.28671077 43.89499752]\n",
            " [35.84740877 72.90219803]\n",
            " [60.18259939 86.3085521 ]\n",
            " [79.03273605 75.34437644]] \n",
            " type : <class 'numpy.ndarray'>\n",
            "-------------------------------------\n",
            "First five elements in y_train are : \n",
            " [0. 0. 0. 1. 1.] \n",
            " type : <class 'numpy.ndarray'>\n"
          ]
        }
      ],
      "source": [
        "print(\"First five elements in x_train are : \\n\" , x_train[:5] , \"\\n type :\" , type(x_train))\n",
        "print(\"-------------------------------------\")\n",
        "print(\"First five elements in y_train are : \\n\" , y_train[:5] , \"\\n type :\" , type(y_train))"
      ]
    },
    {
      "cell_type": "markdown",
      "metadata": {
        "id": "XyVsnvsBzpNK"
      },
      "source": [
        "\n",
        "\n",
        "> Checking dimention of our variables\n",
        "\n"
      ]
    },
    {
      "cell_type": "code",
      "execution_count": null,
      "metadata": {
        "colab": {
          "base_uri": "https://localhost:8080/"
        },
        "id": "vT_ZkOiMymy6",
        "outputId": "a5310d2b-ebd0-452f-d3fc-248a99f4f095"
      },
      "outputs": [
        {
          "output_type": "stream",
          "name": "stdout",
          "text": [
            "Shape of x_train is : (100, 2)\n",
            "Shape of y_train is : (100,)\n",
            "Numberof samples :  100\n"
          ]
        }
      ],
      "source": [
        "print(\"Shape of x_train is :\" , x_train.shape)\n",
        "print(\"Shape of y_train is :\" , y_train.shape)\n",
        "print(\"Numberof samples : \" , len(y_train))"
      ]
    },
    {
      "cell_type": "markdown",
      "metadata": {
        "id": "erSmTCN53Gaw"
      },
      "source": [
        "\n",
        "\n",
        "> Visualize data\n",
        "\n"
      ]
    },
    {
      "cell_type": "code",
      "execution_count": null,
      "metadata": {
        "colab": {
          "base_uri": "https://localhost:8080/",
          "height": 296
        },
        "id": "FOMUoOpw0Sso",
        "outputId": "9bbc639a-d1b7-462c-e3de-b5855dc883a0"
      },
      "outputs": [
        {
          "output_type": "execute_result",
          "data": {
            "text/plain": [
              "<matplotlib.legend.Legend at 0x7f5f73fa8c10>"
            ]
          },
          "metadata": {},
          "execution_count": 6
        },
        {
          "output_type": "display_data",
          "data": {
            "text/plain": [
              "<Figure size 432x288 with 1 Axes>"
            ],
            "image/png": "[encoded data removed]"
          },
          "metadata": {
            "needs_background": "light"
          }
        }
      ],
      "source": [
        "\n",
        "positive = y_train == 1\n",
        "negative = y_train == 0\n",
        "\n",
        "plt.plot(x_train[positive , 0] , x_train[positive , 1] , \"k+\" , label = \"y = 1\")\n",
        "plt.plot(x_train[negative , 0] , x_train[negative , 1] , \"yo\" , label = \"y = 0\")\n",
        "plt.xlabel(\"first feature\")\n",
        "plt.ylabel(\"second feature\")\n",
        "plt.legend(loc=\"upper right\")"
      ]
    },
    {
      "cell_type": "markdown",
      "metadata": {
        "id": "O05o9dCC7lgy"
      },
      "source": [
        "# Building Model"
      ]
    },
    {
      "cell_type": "markdown",
      "metadata": {
        "id": "XBDxlIUo7slY"
      },
      "source": [
        "\n",
        "\n",
        "\n",
        "> Model : Sigmoid Function\n",
        "\n",
        "\n",
        "\\begin{align}\n",
        "    f(x) = g( wa+b)\n",
        "\\end{align}\n",
        "\n",
        "\\begin{align}\n",
        "    g(z) = \\frac{1}{1 +  e^{-z}}\n",
        "\\end{align}"
      ]
    },
    {
      "cell_type": "code",
      "execution_count": null,
      "metadata": {
        "id": "0ULrW1BN7lBw"
      },
      "outputs": [],
      "source": [
        "def sigmoid(z):\n",
        "  \"\"\"\n",
        "  compute the sigmoid of z\n",
        "\n",
        "  Args :\n",
        "    z (ndarray): A scalar, numpy array of any size.\n",
        "\n",
        "  Return :\n",
        "    g (ndarray): sigmoid(z), with the same shape as z\n",
        "\n",
        "  \"\"\"\n",
        "\n",
        "  g = 1 / (1 + np.exp(-z))\n",
        "\n",
        "  return g"
      ]
    },
    {
      "cell_type": "markdown",
      "metadata": {
        "id": "RLf11oA4-ViK"
      },
      "source": [
        "\n",
        "\n",
        "> Cost function :\n",
        "\n",
        "\n",
        "\n",
        "\\begin{align}\n",
        "J(w , b) = \\frac{1}{m}\\sum_{i=1}^m [ loss (f(x^i) , y^i)]\n",
        "\\end{align}\n",
        "\n",
        "\n",
        "> Loss :\n",
        "\n",
        "\\begin{align}\n",
        "loss(f(x^i) , y^i) = (-y^{i} log(f(x^i)))-(1-y^i)log(1-f(x^i))\n",
        "\\end{align}\n"
      ]
    },
    {
      "cell_type": "code",
      "execution_count": null,
      "metadata": {
        "id": "qyAyswk51g6b"
      },
      "outputs": [],
      "source": [
        "def cost_function(x , y , w , b , lambda_) :\n",
        "  \"\"\"\n",
        "  compute total cost over all samples\n",
        "\n",
        "  Arges :\n",
        "    x : (ndarray Shape (m,n)) data, m examples by n features\n",
        "    y : (array_like Shape (m,)) target value \n",
        "    w : (array_like Shape (n,)) Values of parameters of the model      \n",
        "    b : scalar Values of bias parameter of the model\n",
        "\n",
        "  Return :\n",
        "    total_cost : (scalar)         cost\n",
        "\n",
        "  \"\"\"\n",
        "\n",
        "  m , n = x.shape\n",
        "  loss = 0\n",
        "\n",
        "  for i in range(m):\n",
        "    z = np.dot(x[i] , w) + b\n",
        "    predict = sigmoid(z)\n",
        "    loss += (-y[i] * np.log(predict)) - ((1 - y[i]) * np.log(1 - predict))\n",
        "\n",
        "  total_cost = loss / m\n",
        "\n",
        "  return total_cost"
      ]
    },
    {
      "cell_type": "markdown",
      "metadata": {
        "id": "5aE6oFIwwSod"
      },
      "source": [
        "\n",
        "\n",
        "> Gradient Discent\n",
        "\n",
        "\\begin{align}\n",
        "  w =w-a\\cdot\\frac{\\partial J}{\\partial w} := w -a\\cdot\\frac{1}{n}\\sum_{i=1}^n (h(x)^i - y^i)x^i\n",
        "  \\end{align}\t \n",
        "\\begin{align}\n",
        "  b =b-a\\cdot\\frac{\\partial J}{\\partial b}:= b -a\\cdot\\frac{1}{n}\\sum_{i=1}^n (h(x)^i - y^i)\n",
        "\\end{align}\n",
        "\n"
      ]
    },
    {
      "cell_type": "code",
      "execution_count": null,
      "metadata": {
        "id": "Ye0El8mtvkJn"
      },
      "outputs": [],
      "source": [
        "def compute_gradient(x , y , w , b , lambda_):\n",
        "  \"\"\"\n",
        "  computes gradient discent for logistic regression\n",
        "\n",
        "  Arges :\n",
        "\n",
        "    x : (ndarray shape (m ,n)) data with m samples and n features\n",
        "    y : (array_like shape (m,)) target values\n",
        "    w : (array_like shape (n,)) weight for features\n",
        "    b : (scaler) Values of bias parameter of the model\n",
        "\n",
        "  Returns : \n",
        "  dj_dw : (array_like shape (n,))\n",
        "  dj_db : (scalar)\n",
        "\n",
        "  \"\"\"\n",
        "  dj_dw = np.zeros(w.shape)\n",
        "  dj_db = 0.0\n",
        "\n",
        "  m , n = x.shape\n",
        "\n",
        "  for i in range(m) : \n",
        "    z = np.dot(x[i] , w) + b\n",
        "    predict = sigmoid(z)\n",
        "    error = predict - y[i]\n",
        "\n",
        "    for j in range(n):\n",
        "      dj_dw[j] += error*x[i , j]\n",
        "\n",
        "    dj_db += error\n",
        "\n",
        "  \n",
        "  dj_dw = dj_dw/m\n",
        "  dj_db = dj_db/m\n",
        "\n",
        "  return dj_dw , dj_db\n",
        "\n"
      ]
    },
    {
      "cell_type": "markdown",
      "metadata": {
        "id": "_d0qOP5S3MtM"
      },
      "source": [
        "# train the Model"
      ]
    },
    {
      "cell_type": "code",
      "execution_count": null,
      "metadata": {
        "id": "u93ebL2B3MFW"
      },
      "outputs": [],
      "source": [
        "def gradient_discent(x , y , w , b , cost_function, gradient_function, alpha, num_iters, lambda_):\n",
        "\n",
        "  w_history = []\n",
        "  cost_history = []\n",
        "\n",
        "  for i in range(num_iters):\n",
        "    dj_dw , dj_db = gradient_function(x , y , w , b , lambda_)\n",
        "    w = w - alpha * dj_dw\n",
        "    b = b - alpha * dj_db\n",
        "\n",
        "    if i<100000:      # prevent resource exhaustion \n",
        "      cost = cost_function(x , y , w , b , lambda_)\n",
        "      cost_history.append(cost)\n",
        "\n",
        "    if i% math.ceil(num_iters/10) == 0 or i == (num_iters-1):\n",
        "      w_history.append(w)\n",
        "      print(f\"Iteration {i:4}: Cost {float(cost_history[-1]):8.2f} \")\n",
        "\n",
        "  return w, b, cost_history, w_history\n",
        "\n"
      ]
    },
    {
      "cell_type": "code",
      "execution_count": null,
      "metadata": {
        "colab": {
          "base_uri": "https://localhost:8080/"
        },
        "id": "nESrjRIA22Kj",
        "outputId": "77b346ee-b9ed-4df2-8606-f8af020d89b8"
      },
      "outputs": [
        {
          "output_type": "stream",
          "name": "stdout",
          "text": [
            "Iteration    0: Cost     0.96 \n",
            "Iteration 1000: Cost     0.31 \n",
            "Iteration 2000: Cost     0.30 \n",
            "Iteration 3000: Cost     0.30 \n",
            "Iteration 4000: Cost     0.30 \n",
            "Iteration 5000: Cost     0.30 \n",
            "Iteration 6000: Cost     0.30 \n",
            "Iteration 7000: Cost     0.30 \n",
            "Iteration 8000: Cost     0.30 \n",
            "Iteration 9000: Cost     0.30 \n",
            "Iteration 9999: Cost     0.30 \n"
          ]
        }
      ],
      "source": [
        "np.random.seed(1)\n",
        "intial_w = 0.01 * (np.random.rand(2).reshape(-1,1) - 0.5)\n",
        "initial_b = -8\n",
        "\n",
        "\n",
        "# Some gradient descent settings\n",
        "iterations = 10000\n",
        "alpha = 0.001\n",
        "\n",
        "w,b, J_history,_ = gradient_discent(x_train ,y_train, intial_w, initial_b, cost_function, compute_gradient, alpha, iterations, 0)"
      ]
    },
    {
      "cell_type": "markdown",
      "source": [
        "\n",
        "\n",
        "> Prediction :\n",
        "\n",
        "if\n",
        "\\begin{align}\n",
        " f(x^i) > 0.5 , predict y^i = 1\n",
        "\\end{align}\n",
        "\n",
        "if \n",
        "\n",
        "\\begin{align}\n",
        " f(x^i) < 0.5 , predict y^i = 0\n",
        "\\end{align}\n",
        "\n"
      ],
      "metadata": {
        "id": "lpHkEryleCx_"
      }
    },
    {
      "cell_type": "code",
      "execution_count": null,
      "metadata": {
        "id": "P_JoodB_9YtN"
      },
      "outputs": [],
      "source": [
        "def predict(x , w , b ,treshold ):\n",
        "  \"\"\"\n",
        "    Predict whether the label is 0 or 1 using learned logistic\n",
        "    regression parameters w\n",
        "    \n",
        "    Args:\n",
        "    X : (ndarray Shape (m, n))\n",
        "    w : (array_like Shape (n,))      Parameters of the model\n",
        "    b : (scalar, float)              Parameter of the model\n",
        "    treshold : a number that define our treshhold\n",
        "\n",
        "    Returns:\n",
        "    p: (ndarray (m,1))\n",
        "        The predictions for X using a threshold at 0.5\n",
        "  \"\"\"\n",
        "\n",
        "  m , n = x.shape\n",
        "  p = np.zeros(m)\n",
        "\n",
        "  for i in range(m):\n",
        "\n",
        "    z = np.dot(x[i] , w) + b\n",
        "    prediction = sigmoid(z)\n",
        "\n",
        "    if prediction > treshold :\n",
        "      p[i] = 1\n",
        "    else :\n",
        "      p[i] = 0\n",
        "    \n",
        "  return p\n",
        "\n"
      ]
    },
    {
      "cell_type": "markdown",
      "source": [
        "\n",
        "\n",
        "> accuracy :\n",
        "\n"
      ],
      "metadata": {
        "id": "soz4DVlhhKIl"
      }
    },
    {
      "cell_type": "code",
      "source": [
        "prediction = predict(x_train , w , b , 0.5  )\n",
        "print(\"Train accuracy: %f\"%(np.mean(prediction == y_train)*100))"
      ],
      "metadata": {
        "colab": {
          "base_uri": "https://localhost:8080/"
        },
        "id": "VCfHg64yg5W3",
        "outputId": "044ea63a-ed19-46c0-bc42-d6fbac5c573c"
      },
      "execution_count": null,
      "outputs": [
        {
          "output_type": "stream",
          "name": "stdout",
          "text": [
            "Train accuracy: 92.000000\n"
          ]
        }
      ]
    },
    {
      "cell_type": "markdown",
      "source": [
        "# Regularization\n",
        "\n",
        "When we have a lot of features , our model mostly will over fit .\n",
        "To avoid a complex model and overfiting we will omit some features affect will regularization .\n",
        "\n",
        "\n",
        "\n",
        "> Cost funcation for regularized logistic regression \n",
        "\n",
        "\n",
        "\\begin{align}\n",
        "J(w , b) = \\frac{1}{m}\\sum_{i=1}^m [ -y^{i} log(f(x^i))-(1-y^i)log(1-f(x^i))] + \\frac {λ}{2m} \\sum_{j=0}^{n-1}w_j^2\n",
        "\\end{align}\n",
        "\n",
        "\n",
        "\n",
        "\n"
      ],
      "metadata": {
        "id": "gPJgyIc3jI6Z"
      }
    },
    {
      "cell_type": "code",
      "source": [
        "def regularized_cost(x , y , w , b , lambda_ = 1) :\n",
        "  cost = cost_function(x , y , w , b , lambda_)\n",
        "\n",
        "  m , n = x.shape\n",
        "  reg_cost = 0.\n",
        "\n",
        "  for i in range(n) :\n",
        "    reg_cost += w[i] ** 2\n",
        "  \n",
        "  total_cost = cost + (lambda_  / (2 * m)) * reg_cost\n",
        "  return total_cost\n"
      ],
      "metadata": {
        "id": "vkozmzsmhvMZ"
      },
      "execution_count": null,
      "outputs": []
    },
    {
      "cell_type": "markdown",
      "source": [
        "\n",
        "\n",
        "> Gradient Discent with Regularization \n",
        "\n",
        "\\begin{align}\n",
        "  w =w-a\\cdot\\frac{\\partial J}{\\partial w} := w -a\\cdot\\frac{1}{n}\\sum_{i=1}^n (h(x)^i - y^i)x^i + \\frac{\\lambda * w}{m}\n",
        "  \\end{align}\t \n",
        "\\begin{align}\n",
        "  b =b-a\\cdot\\frac{\\partial J}{\\partial b}:= b -a\\cdot\\frac{1}{n}\\sum_{i=1}^n (h(x)^i - y^i)\n",
        "\\end{align}\n",
        "\n"
      ],
      "metadata": {
        "id": "lqMZoTZTtRuv"
      }
    },
    {
      "cell_type": "code",
      "source": [
        "def compute_gradient_reg(X, y, w, b, lambda_ = 1): \n",
        "    \"\"\"\n",
        "    Computes the gradient for linear regression \n",
        " \n",
        "    Args:\n",
        "      X : (ndarray Shape (m,n))   variable such as house size \n",
        "      y : (ndarray Shape (m,))    actual value \n",
        "      w : (ndarray Shape (n,))    values of parameters of the model      \n",
        "      b : (scalar)                value of parameter of the model  \n",
        "      lambda_ : (scalar,float)    regularization constant\n",
        "    Returns\n",
        "      dj_db: (scalar)             The gradient of the cost w.r.t. the parameter b. \n",
        "      dj_dw: (ndarray Shape (n,)) The gradient of the cost w.r.t. the parameters w. \n",
        "\n",
        "    \"\"\"\n",
        "    m, n = X.shape\n",
        "    \n",
        "    dj_db, dj_dw = compute_gradient(X, y, w, b , lambda_)\n",
        "\n",
        "    ### START CODE HERE ###   \n",
        "    \n",
        "    for j in range(n):\n",
        "        dj_dw[j] += (lambda_ * w[j])/m\n",
        "        \n",
        "    \n",
        "        \n",
        "    ### END CODE HERE ###         \n",
        "        \n",
        "    return dj_db, dj_dw"
      ],
      "metadata": {
        "id": "NISoT44-s3IW"
      },
      "execution_count": null,
      "outputs": []
    }
  ],
  "metadata": {
    "colab": {
      "collapsed_sections": [],
      "provenance": [],
      "authorship_tag": "ABX9TyNveRJSSeAYfl063ZPPspZT",
      "include_colab_link": true
    },
    "kernelspec": {
      "display_name": "Python 3",
      "name": "python3"
    },
    "language_info": {
      "name": "python"
    },
    "gpuClass": "standard"
  },
  "nbformat": 4,
  "nbformat_minor": 0
}